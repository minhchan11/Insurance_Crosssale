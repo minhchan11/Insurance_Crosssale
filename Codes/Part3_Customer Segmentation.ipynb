{
 "cells": [
  {
   "cell_type": "code",
   "execution_count": 2,
   "metadata": {},
   "outputs": [],
   "source": [
    "import pandas as pd\n",
    "import numpy as np\n",
    "import scipy as sp\n",
    "import matplotlib.pyplot as plt\n",
    "from matplotlib import rc\n",
    "import math\n",
    "import ast\n",
    "import re\n",
    "import seaborn as sns\n",
    "from IPython.display import Image\n",
    "%matplotlib inline\n",
    "plt.rcParams\n",
    "plt.rcParams['figure.figsize'] = (5,5)\n",
    "plt.rcParams['font.size'] = 8\n",
    "plt.rcParams['figure.dpi'] = 100"
   ]
  },
  {
   "cell_type": "code",
   "execution_count": 167,
   "metadata": {},
   "outputs": [],
   "source": [
    "import re\n",
    "import itertools\n",
    "from sklearn.model_selection import train_test_split,cross_val_score\n",
    "from sklearn.pipeline import Pipeline\n",
    "from sklearn.feature_extraction.text import CountVectorizer, TfidfVectorizer,TfidfTransformer\n",
    "from sklearn.neighbors import KNeighborsClassifier\n",
    "from sklearn.cluster import KMeans,DBSCAN,SpectralClustering\n",
    "from textblob import TextBlob\n",
    "from sklearn.naive_bayes import MultinomialNB, BernoulliNB\n",
    "from sklearn.linear_model import SGDClassifier\n",
    "from sklearn.ensemble import VotingClassifier,RandomForestClassifier\n",
    "from sklearn.calibration import CalibratedClassifierCV\n",
    "from sklearn.svm import LinearSVC\n",
    "from sklearn.semi_supervised import LabelPropagation\n",
    "from sklearn.multiclass import OneVsRestClassifier,OneVsOneClassifier\n",
    "from sklearn.decomposition import TruncatedSVD\n",
    "from sklearn.metrics import accuracy_score, classification_report, confusion_matrix,make_scorer,silhouette_score,silhouette_samples\n",
    "from sklearn.preprocessing import LabelEncoder,MinMaxScaler\n",
    "from imblearn.under_sampling import RandomUnderSampler,ClusterCentroids,CondensedNearestNeighbour,NeighbourhoodCleaningRule,NearMiss\n",
    "from collections import Counter\n",
    "import joblib\n",
    "import datetime as dt\n",
    "from datetime import datetime"
   ]
  },
  {
   "cell_type": "code",
   "execution_count": 39,
   "metadata": {},
   "outputs": [],
   "source": [
    "df = pd.read_excel('../data/processed/data_model.xlsx')"
   ]
  },
  {
   "cell_type": "code",
   "execution_count": 40,
   "metadata": {},
   "outputs": [
    {
     "data": {
      "text/html": [
       "<div>\n",
       "<style scoped>\n",
       "    .dataframe tbody tr th:only-of-type {\n",
       "        vertical-align: middle;\n",
       "    }\n",
       "\n",
       "    .dataframe tbody tr th {\n",
       "        vertical-align: top;\n",
       "    }\n",
       "\n",
       "    .dataframe thead th {\n",
       "        text-align: right;\n",
       "    }\n",
       "</style>\n",
       "<table border=\"1\" class=\"dataframe\">\n",
       "  <thead>\n",
       "    <tr style=\"text-align: right;\">\n",
       "      <th></th>\n",
       "      <th>INSURED_ID</th>\n",
       "      <th>BUYER_ID</th>\n",
       "      <th>PERSON_ID</th>\n",
       "      <th>ENTRY_AGE</th>\n",
       "      <th>COVER_AGE</th>\n",
       "      <th>PAY_AGE</th>\n",
       "      <th>OWNER_AGE</th>\n",
       "      <th>PAY_TERM</th>\n",
       "      <th>COVER_TERM</th>\n",
       "      <th>PRODUCT_CODE</th>\n",
       "      <th>...</th>\n",
       "      <th>POL_ST_lapsed - apl</th>\n",
       "      <th>POL_ST_lapsed - eti</th>\n",
       "      <th>POL_ST_lapsed - rpu</th>\n",
       "      <th>POL_ST_matured</th>\n",
       "      <th>POL_ST_not taken up</th>\n",
       "      <th>POL_ST_postponed</th>\n",
       "      <th>POL_ST_surrendered</th>\n",
       "      <th>POL_ST_surrendered - ecv</th>\n",
       "      <th>POL_ST_surrendered - rpu</th>\n",
       "      <th>POL_ST_with uw requirements</th>\n",
       "    </tr>\n",
       "  </thead>\n",
       "  <tbody>\n",
       "    <tr>\n",
       "      <th>0</th>\n",
       "      <td>PART_ID_10751</td>\n",
       "      <td>0</td>\n",
       "      <td>PART_ID_10751</td>\n",
       "      <td>34</td>\n",
       "      <td>35</td>\n",
       "      <td>35</td>\n",
       "      <td>34</td>\n",
       "      <td>1</td>\n",
       "      <td>1</td>\n",
       "      <td>2161</td>\n",
       "      <td>...</td>\n",
       "      <td>0</td>\n",
       "      <td>0</td>\n",
       "      <td>0</td>\n",
       "      <td>0</td>\n",
       "      <td>0</td>\n",
       "      <td>0</td>\n",
       "      <td>1</td>\n",
       "      <td>0</td>\n",
       "      <td>0</td>\n",
       "      <td>0</td>\n",
       "    </tr>\n",
       "    <tr>\n",
       "      <th>1</th>\n",
       "      <td>PART_ID_8104</td>\n",
       "      <td>0</td>\n",
       "      <td>PART_ID_8104</td>\n",
       "      <td>53</td>\n",
       "      <td>58</td>\n",
       "      <td>58</td>\n",
       "      <td>53</td>\n",
       "      <td>5</td>\n",
       "      <td>5</td>\n",
       "      <td>2198</td>\n",
       "      <td>...</td>\n",
       "      <td>0</td>\n",
       "      <td>0</td>\n",
       "      <td>0</td>\n",
       "      <td>0</td>\n",
       "      <td>0</td>\n",
       "      <td>0</td>\n",
       "      <td>0</td>\n",
       "      <td>0</td>\n",
       "      <td>0</td>\n",
       "      <td>0</td>\n",
       "    </tr>\n",
       "    <tr>\n",
       "      <th>2</th>\n",
       "      <td>PART_ID_15437</td>\n",
       "      <td>0</td>\n",
       "      <td>PART_ID_15437</td>\n",
       "      <td>59</td>\n",
       "      <td>60</td>\n",
       "      <td>60</td>\n",
       "      <td>59</td>\n",
       "      <td>1</td>\n",
       "      <td>1</td>\n",
       "      <td>2163</td>\n",
       "      <td>...</td>\n",
       "      <td>0</td>\n",
       "      <td>0</td>\n",
       "      <td>0</td>\n",
       "      <td>0</td>\n",
       "      <td>0</td>\n",
       "      <td>0</td>\n",
       "      <td>0</td>\n",
       "      <td>0</td>\n",
       "      <td>0</td>\n",
       "      <td>0</td>\n",
       "    </tr>\n",
       "    <tr>\n",
       "      <th>3</th>\n",
       "      <td>PART_ID_5553</td>\n",
       "      <td>PART_ID_578</td>\n",
       "      <td>PART_ID_578</td>\n",
       "      <td>19</td>\n",
       "      <td>24</td>\n",
       "      <td>24</td>\n",
       "      <td>50</td>\n",
       "      <td>5</td>\n",
       "      <td>5</td>\n",
       "      <td>2127</td>\n",
       "      <td>...</td>\n",
       "      <td>0</td>\n",
       "      <td>0</td>\n",
       "      <td>0</td>\n",
       "      <td>0</td>\n",
       "      <td>0</td>\n",
       "      <td>0</td>\n",
       "      <td>0</td>\n",
       "      <td>0</td>\n",
       "      <td>0</td>\n",
       "      <td>0</td>\n",
       "    </tr>\n",
       "    <tr>\n",
       "      <th>4</th>\n",
       "      <td>PART_ID_5553</td>\n",
       "      <td>PART_ID_578</td>\n",
       "      <td>PART_ID_578</td>\n",
       "      <td>19</td>\n",
       "      <td>24</td>\n",
       "      <td>24</td>\n",
       "      <td>50</td>\n",
       "      <td>5</td>\n",
       "      <td>5</td>\n",
       "      <td>1476</td>\n",
       "      <td>...</td>\n",
       "      <td>0</td>\n",
       "      <td>0</td>\n",
       "      <td>0</td>\n",
       "      <td>0</td>\n",
       "      <td>0</td>\n",
       "      <td>0</td>\n",
       "      <td>0</td>\n",
       "      <td>0</td>\n",
       "      <td>0</td>\n",
       "      <td>0</td>\n",
       "    </tr>\n",
       "  </tbody>\n",
       "</table>\n",
       "<p>5 rows × 108 columns</p>\n",
       "</div>"
      ],
      "text/plain": [
       "      INSURED_ID     BUYER_ID      PERSON_ID  ENTRY_AGE  COVER_AGE  PAY_AGE  \\\n",
       "0  PART_ID_10751            0  PART_ID_10751         34         35       35   \n",
       "1   PART_ID_8104            0   PART_ID_8104         53         58       58   \n",
       "2  PART_ID_15437            0  PART_ID_15437         59         60       60   \n",
       "3   PART_ID_5553  PART_ID_578    PART_ID_578         19         24       24   \n",
       "4   PART_ID_5553  PART_ID_578    PART_ID_578         19         24       24   \n",
       "\n",
       "   OWNER_AGE  PAY_TERM  COVER_TERM  PRODUCT_CODE             ...               \\\n",
       "0         34         1           1          2161             ...                \n",
       "1         53         5           5          2198             ...                \n",
       "2         59         1           1          2163             ...                \n",
       "3         50         5           5          2127             ...                \n",
       "4         50         5           5          1476             ...                \n",
       "\n",
       "   POL_ST_lapsed - apl  POL_ST_lapsed - eti  POL_ST_lapsed - rpu  \\\n",
       "0                    0                    0                    0   \n",
       "1                    0                    0                    0   \n",
       "2                    0                    0                    0   \n",
       "3                    0                    0                    0   \n",
       "4                    0                    0                    0   \n",
       "\n",
       "   POL_ST_matured POL_ST_not taken up  POL_ST_postponed  POL_ST_surrendered  \\\n",
       "0               0                   0                 0                   1   \n",
       "1               0                   0                 0                   0   \n",
       "2               0                   0                 0                   0   \n",
       "3               0                   0                 0                   0   \n",
       "4               0                   0                 0                   0   \n",
       "\n",
       "   POL_ST_surrendered - ecv  POL_ST_surrendered - rpu  \\\n",
       "0                         0                         0   \n",
       "1                         0                         0   \n",
       "2                         0                         0   \n",
       "3                         0                         0   \n",
       "4                         0                         0   \n",
       "\n",
       "   POL_ST_with uw requirements  \n",
       "0                            0  \n",
       "1                            0  \n",
       "2                            0  \n",
       "3                            0  \n",
       "4                            0  \n",
       "\n",
       "[5 rows x 108 columns]"
      ]
     },
     "execution_count": 40,
     "metadata": {},
     "output_type": "execute_result"
    }
   ],
   "source": [
    "df.head()"
   ]
  },
  {
   "cell_type": "markdown",
   "metadata": {},
   "source": [
    "# RECENCY - FREQUENCY - MONETARY MODEL"
   ]
  },
  {
   "cell_type": "code",
   "execution_count": 41,
   "metadata": {},
   "outputs": [],
   "source": [
    "df_rfm= df[['INSURED_ID','PRODUCT_CODE','ISSUE_DATE','PREMIUM']]"
   ]
  },
  {
   "cell_type": "code",
   "execution_count": 53,
   "metadata": {},
   "outputs": [],
   "source": [
    "df_rfm = df_rfm.groupby('INSURED_ID').agg({'ISSUE_DATE': lambda date: (dt.datetime.today() - date.max()).days,\n",
    "                                'PRODUCT_CODE': lambda product: len(product),\n",
    "                                'PREMIUM': lambda price: price.sum()})"
   ]
  },
  {
   "cell_type": "code",
   "execution_count": 58,
   "metadata": {},
   "outputs": [],
   "source": [
    "df_rfm.rename(columns={'ISSUE_DATE':'Recency','PRODUCT_CODE':'Frequency','PREMIUM':'Monetary'},inplace=True)"
   ]
  },
  {
   "cell_type": "code",
   "execution_count": 59,
   "metadata": {},
   "outputs": [
    {
     "data": {
      "text/html": [
       "<div>\n",
       "<style scoped>\n",
       "    .dataframe tbody tr th:only-of-type {\n",
       "        vertical-align: middle;\n",
       "    }\n",
       "\n",
       "    .dataframe tbody tr th {\n",
       "        vertical-align: top;\n",
       "    }\n",
       "\n",
       "    .dataframe thead th {\n",
       "        text-align: right;\n",
       "    }\n",
       "</style>\n",
       "<table border=\"1\" class=\"dataframe\">\n",
       "  <thead>\n",
       "    <tr style=\"text-align: right;\">\n",
       "      <th></th>\n",
       "      <th>Recency</th>\n",
       "      <th>Frequency</th>\n",
       "      <th>Monetary</th>\n",
       "    </tr>\n",
       "    <tr>\n",
       "      <th>INSURED_ID</th>\n",
       "      <th></th>\n",
       "      <th></th>\n",
       "      <th></th>\n",
       "    </tr>\n",
       "  </thead>\n",
       "  <tbody>\n",
       "    <tr>\n",
       "      <th>PART_ID_10</th>\n",
       "      <td>3044</td>\n",
       "      <td>1</td>\n",
       "      <td>25785.12</td>\n",
       "    </tr>\n",
       "    <tr>\n",
       "      <th>PART_ID_10000</th>\n",
       "      <td>1629</td>\n",
       "      <td>1</td>\n",
       "      <td>100000.00</td>\n",
       "    </tr>\n",
       "    <tr>\n",
       "      <th>PART_ID_10001</th>\n",
       "      <td>1651</td>\n",
       "      <td>1</td>\n",
       "      <td>1000000.00</td>\n",
       "    </tr>\n",
       "    <tr>\n",
       "      <th>PART_ID_10002</th>\n",
       "      <td>1298</td>\n",
       "      <td>2</td>\n",
       "      <td>63183.28</td>\n",
       "    </tr>\n",
       "    <tr>\n",
       "      <th>PART_ID_10003</th>\n",
       "      <td>1201</td>\n",
       "      <td>3</td>\n",
       "      <td>66267.04</td>\n",
       "    </tr>\n",
       "  </tbody>\n",
       "</table>\n",
       "</div>"
      ],
      "text/plain": [
       "               Recency  Frequency    Monetary\n",
       "INSURED_ID                                   \n",
       "PART_ID_10        3044          1    25785.12\n",
       "PART_ID_10000     1629          1   100000.00\n",
       "PART_ID_10001     1651          1  1000000.00\n",
       "PART_ID_10002     1298          2    63183.28\n",
       "PART_ID_10003     1201          3    66267.04"
      ]
     },
     "execution_count": 59,
     "metadata": {},
     "output_type": "execute_result"
    }
   ],
   "source": [
    "df_rfm.head()"
   ]
  },
  {
   "cell_type": "code",
   "execution_count": 60,
   "metadata": {},
   "outputs": [
    {
     "data": {
      "text/html": [
       "<div>\n",
       "<style scoped>\n",
       "    .dataframe tbody tr th:only-of-type {\n",
       "        vertical-align: middle;\n",
       "    }\n",
       "\n",
       "    .dataframe tbody tr th {\n",
       "        vertical-align: top;\n",
       "    }\n",
       "\n",
       "    .dataframe thead th {\n",
       "        text-align: right;\n",
       "    }\n",
       "</style>\n",
       "<table border=\"1\" class=\"dataframe\">\n",
       "  <thead>\n",
       "    <tr style=\"text-align: right;\">\n",
       "      <th></th>\n",
       "      <th>Recency</th>\n",
       "      <th>Frequency</th>\n",
       "      <th>Monetary</th>\n",
       "    </tr>\n",
       "  </thead>\n",
       "  <tbody>\n",
       "    <tr>\n",
       "      <th>count</th>\n",
       "      <td>12314.000000</td>\n",
       "      <td>12314.000000</td>\n",
       "      <td>1.231400e+04</td>\n",
       "    </tr>\n",
       "    <tr>\n",
       "      <th>mean</th>\n",
       "      <td>25451.188322</td>\n",
       "      <td>1.685236</td>\n",
       "      <td>3.211591e+05</td>\n",
       "    </tr>\n",
       "    <tr>\n",
       "      <th>std</th>\n",
       "      <td>128892.408301</td>\n",
       "      <td>1.062032</td>\n",
       "      <td>9.005532e+05</td>\n",
       "    </tr>\n",
       "    <tr>\n",
       "      <th>min</th>\n",
       "      <td>999.000000</td>\n",
       "      <td>1.000000</td>\n",
       "      <td>-5.000000e+05</td>\n",
       "    </tr>\n",
       "    <tr>\n",
       "      <th>25%</th>\n",
       "      <td>1509.000000</td>\n",
       "      <td>1.000000</td>\n",
       "      <td>3.282137e+04</td>\n",
       "    </tr>\n",
       "    <tr>\n",
       "      <th>50%</th>\n",
       "      <td>2091.000000</td>\n",
       "      <td>1.000000</td>\n",
       "      <td>1.000000e+05</td>\n",
       "    </tr>\n",
       "    <tr>\n",
       "      <th>75%</th>\n",
       "      <td>2760.000000</td>\n",
       "      <td>2.000000</td>\n",
       "      <td>3.000000e+05</td>\n",
       "    </tr>\n",
       "    <tr>\n",
       "      <th>max</th>\n",
       "      <td>737170.000000</td>\n",
       "      <td>11.000000</td>\n",
       "      <td>4.034633e+07</td>\n",
       "    </tr>\n",
       "  </tbody>\n",
       "</table>\n",
       "</div>"
      ],
      "text/plain": [
       "             Recency     Frequency      Monetary\n",
       "count   12314.000000  12314.000000  1.231400e+04\n",
       "mean    25451.188322      1.685236  3.211591e+05\n",
       "std    128892.408301      1.062032  9.005532e+05\n",
       "min       999.000000      1.000000 -5.000000e+05\n",
       "25%      1509.000000      1.000000  3.282137e+04\n",
       "50%      2091.000000      1.000000  1.000000e+05\n",
       "75%      2760.000000      2.000000  3.000000e+05\n",
       "max    737170.000000     11.000000  4.034633e+07"
      ]
     },
     "execution_count": 60,
     "metadata": {},
     "output_type": "execute_result"
    }
   ],
   "source": [
    "df_rfm.describe()"
   ]
  },
  {
   "cell_type": "code",
   "execution_count": 61,
   "metadata": {},
   "outputs": [
    {
     "data": {
      "text/plain": [
       "<seaborn.axisgrid.PairGrid at 0x1c1e3d91e10>"
      ]
     },
     "execution_count": 61,
     "metadata": {},
     "output_type": "execute_result"
    },
    {
     "data": {
      "image/png": "[encoded data removed]",
      "text/plain": [
       "<Figure size 750x750 with 12 Axes>"
      ]
     },
     "metadata": {},
     "output_type": "display_data"
    }
   ],
   "source": [
    "sns.pairplot(df_rfm)"
   ]
  },
  {
   "cell_type": "code",
   "execution_count": 63,
   "metadata": {},
   "outputs": [
    {
     "name": "stderr",
     "output_type": "stream",
     "text": [
      "C:\\Users\\nhatminh.phuong\\AppData\\Local\\Continuum\\anaconda3\\lib\\site-packages\\scipy\\stats\\stats.py:1713: FutureWarning: Using a non-tuple sequence for multidimensional indexing is deprecated; use `arr[tuple(seq)]` instead of `arr[seq]`. In the future this will be interpreted as an array index, `arr[np.array(seq)]`, which will result either in an error or a different result.\n",
      "  return np.add.reduce(sorted[indexer] * weights, axis=axis) / sumval\n"
     ]
    },
    {
     "data": {
      "text/plain": [
       "<seaborn.axisgrid.JointGrid at 0x1c1dd5740f0>"
      ]
     },
     "execution_count": 63,
     "metadata": {},
     "output_type": "execute_result"
    },
    {
     "data": {
      "image/png": "[encoded data removed]",
      "text/plain": [
       "<Figure size 600x600 with 3 Axes>"
      ]
     },
     "metadata": {},
     "output_type": "display_data"
    }
   ],
   "source": [
    "sns.jointplot(x='Frequency', y='Monetary',data=df_rfm, kind='hex')"
   ]
  },
  {
   "cell_type": "code",
   "execution_count": 184,
   "metadata": {},
   "outputs": [],
   "source": [
    "def find_percentile(x,arr_val):\n",
    "    if x <= np.percentile(arr_val,50):\n",
    "        return 0\n",
    "    elif x>= np.percentile(arr_val,50) and x < np.percentile(arr_val,75):\n",
    "        return 1\n",
    "    else: \n",
    "        return 2"
   ]
  },
  {
   "cell_type": "code",
   "execution_count": 186,
   "metadata": {},
   "outputs": [],
   "source": [
    "df_output = df_rfm\n",
    "freq = df_rfm['Frequency']\n",
    "df_output['Stat_model'] = df_rfm.apply(lambda x: find_percentile(x['Frequency'],freq), axis=1)"
   ]
  },
  {
   "cell_type": "code",
   "execution_count": 197,
   "metadata": {},
   "outputs": [
    {
     "data": {
      "image/png": "[encoded data removed]",
      "text/plain": [
       "<Figure size 500x500 with 1 Axes>"
      ]
     },
     "metadata": {},
     "output_type": "display_data"
    }
   ],
   "source": [
    "plt.scatter(X_rfm[df_output['Stat_model']==0,0],X_rfm[df_output['Stat_model']==0,2],s=50, c='red',label='Customer_segment1')\n",
    "plt.scatter(X_rfm[df_output['Stat_model']==1,0],X_rfm[df_output['Stat_model']==1,2],s=50, c='blue',label='Customer_segment1')\n",
    "plt.scatter(X_rfm[df_output['Stat_model']==2,0],X_rfm[df_output['Stat_model']==2,2],s=50, c='green',label='Customer_segment1')\n",
    "plt.title('Clustering with Descriptive Statistics ON RFM features')\n",
    "plt.show()"
   ]
  },
  {
   "cell_type": "code",
   "execution_count": 7,
   "metadata": {},
   "outputs": [],
   "source": [
    "df_cmodel = df[['ENTRY_AGE',\n",
    " 'COVER_AGE',\n",
    " 'PAY_AGE',\n",
    " 'OWNER_AGE',\n",
    " 'PAY_TERM',\n",
    " 'COVER_TERM',\n",
    " 'INSURED_AMT',\n",
    " 'PREMIUM',\n",
    " 'PROPOSAL_TO_ISSUE',\n",
    " 'ISSUE_TO_ST',\n",
    " 'HEIGHT_CM',\n",
    " 'WEIGHT_KG',\n",
    " 'ANP',\n",
    " 'PROD_TYPE_UL',\n",
    " 'GENDER_M',\n",
    " 'MEDICAL_FLAG_Y',\n",
    " 'COVER_TYPE_Rider',\n",
    " 'OWNER_GENDER_F',\n",
    " 'OWNER_GENDER_M',\n",
    " 'PAY_MODE_Cash/Check',\n",
    " 'PAY_MODE_Credit Card Payment',\n",
    " 'PAY_MODE_Others',\n",
    " 'PAY_MODE_Salary Deduction',\n",
    " 'PRODUCT_CATEGORY_Investment',\n",
    " 'PRODUCT_CATEGORY_Protection',\n",
    " 'PRODUCT_CATEGORY_Retirement',\n",
    " 'PRODUCT_CATEGORY_Savings',\n",
    " 'PAY_METHOD_Monthly',\n",
    " 'PAY_METHOD_Quarterly',\n",
    " 'PAY_METHOD_Semi-Annual',\n",
    " 'PAY_METHOD_Single Pay',\n",
    " 'LAST_UW_DEC_CANCELLED',\n",
    " 'LAST_UW_DEC_DECLINED',\n",
    " 'LAST_UW_DEC_OK TO ISSUE',\n",
    " 'LAST_UW_DEC_POSTPONED',\n",
    " 'QRY_APPS_RIDER',\n",
    " 'QRY_TRAD_BASIC',\n",
    " 'QRY_TRAD_RIDER',\n",
    " 'QRY_UL_BASIC',\n",
    " 'QRY_UL_RIDER',\n",
    " 'CLASS_ORDER_1',\n",
    " 'CLASS_ORDER_2',\n",
    " 'CLASS_ORDER_3',\n",
    " 'CLASS_ORDER_4',\n",
    " 'CLASS_ORDER_5',\n",
    " 'CLASS_ORDER_6',\n",
    " 'CLASS_ORDER_7',\n",
    " 'CLASS_ORDER_8',\n",
    " 'CLASS_ORDER_9',\n",
    " 'CLASS_ORDER_10',\n",
    " 'RELATIONSHIP_BIN_EMPLOYER',\n",
    " 'RELATIONSHIP_BIN_GRANDCHILDREN',\n",
    " 'RELATIONSHIP_BIN_GRANDPARENTS',\n",
    " 'RELATIONSHIP_BIN_MISSING',\n",
    " 'RELATIONSHIP_BIN_OTHERS',\n",
    " 'RELATIONSHIP_BIN_PARENTS',\n",
    " 'RELATIONSHIP_BIN_RELATIVE',\n",
    " 'RELATIONSHIP_BIN_SELF',\n",
    " 'RELATIONSHIP_BIN_SIBLINGS',\n",
    " 'RELATIONSHIP_BIN_SPOUSE',\n",
    " 'REGION_DUMMY_REGION_1',\n",
    " 'REGION_DUMMY_REGION_10',\n",
    " 'REGION_DUMMY_REGION_11',\n",
    " 'REGION_DUMMY_REGION_12',\n",
    " 'REGION_DUMMY_REGION_13',\n",
    " 'REGION_DUMMY_REGION_14',\n",
    " 'REGION_DUMMY_REGION_15',\n",
    " 'REGION_DUMMY_REGION_16',\n",
    " 'REGION_DUMMY_REGION_17',\n",
    " 'REGION_DUMMY_REGION_18',\n",
    " 'REGION_DUMMY_REGION_19',\n",
    " 'REGION_DUMMY_REGION_2',\n",
    " 'REGION_DUMMY_REGION_20',\n",
    " 'REGION_DUMMY_REGION_21',\n",
    " 'REGION_DUMMY_REGION_22',\n",
    " 'REGION_DUMMY_REGION_23',\n",
    " 'REGION_DUMMY_REGION_3',\n",
    " 'REGION_DUMMY_REGION_4',\n",
    " 'REGION_DUMMY_REGION_5',\n",
    " 'REGION_DUMMY_REGION_6',\n",
    " 'REGION_DUMMY_REGION_7',\n",
    " 'REGION_DUMMY_REGION_8',\n",
    " 'POL_ST_cancelled',\n",
    " 'POL_ST_claimed',\n",
    " 'POL_ST_declined',\n",
    " 'POL_ST_did not push through',\n",
    " 'POL_ST_encoded complete',\n",
    " 'POL_ST_encoded w/ reqt',\n",
    " 'POL_ST_expired',\n",
    " 'POL_ST_for issuance',\n",
    " 'POL_ST_for underwriting',\n",
    " 'POL_ST_inforce',\n",
    " 'POL_ST_lapsed',\n",
    " 'POL_ST_lapsed - apl',\n",
    " 'POL_ST_lapsed - eti',\n",
    " 'POL_ST_lapsed - rpu',\n",
    " 'POL_ST_matured',\n",
    " 'POL_ST_not taken up',\n",
    " 'POL_ST_postponed',\n",
    " 'POL_ST_surrendered',\n",
    " 'POL_ST_surrendered - ecv',\n",
    " 'POL_ST_surrendered - rpu',\n",
    " 'POL_ST_with uw requirements']]"
   ]
  },
  {
   "cell_type": "code",
   "execution_count": 12,
   "metadata": {},
   "outputs": [
    {
     "name": "stderr",
     "output_type": "stream",
     "text": [
      "C:\\Users\\nhatminh.phuong\\AppData\\Local\\Continuum\\anaconda3\\lib\\site-packages\\sklearn\\preprocessing\\data.py:323: DataConversionWarning: Data with input dtype int64, float64 were all converted to float64 by MinMaxScaler.\n",
      "  return self.partial_fit(X, y)\n"
     ]
    }
   ],
   "source": [
    "X = MinMaxScaler(feature_range=(0,1),copy=True).fit_transform(df_cmodel)"
   ]
  },
  {
   "cell_type": "code",
   "execution_count": 13,
   "metadata": {},
   "outputs": [
    {
     "data": {
      "text/plain": [
       "array([[0.45333333, 0.32110092, 0.32110092, ..., 0.        , 0.        ,\n",
       "        0.        ],\n",
       "       [0.70666667, 0.53211009, 0.53211009, ..., 0.        , 0.        ,\n",
       "        0.        ],\n",
       "       [0.78666667, 0.55045872, 0.55045872, ..., 0.        , 0.        ,\n",
       "        0.        ],\n",
       "       ...,\n",
       "       [0.16      , 0.1559633 , 0.1559633 , ..., 0.        , 0.        ,\n",
       "        0.        ],\n",
       "       [0.16      , 0.1559633 , 0.1559633 , ..., 0.        , 0.        ,\n",
       "        0.        ],\n",
       "       [0.16      , 0.11009174, 0.11009174, ..., 0.        , 0.        ,\n",
       "        0.        ]])"
      ]
     },
     "execution_count": 13,
     "metadata": {},
     "output_type": "execute_result"
    }
   ],
   "source": [
    "X"
   ]
  },
  {
   "cell_type": "code",
   "execution_count": 68,
   "metadata": {},
   "outputs": [
    {
     "name": "stderr",
     "output_type": "stream",
     "text": [
      "C:\\Users\\nhatminh.phuong\\AppData\\Local\\Continuum\\anaconda3\\lib\\site-packages\\sklearn\\preprocessing\\data.py:323: DataConversionWarning: Data with input dtype int64, float64 were all converted to float64 by MinMaxScaler.\n",
      "  return self.partial_fit(X, y)\n"
     ]
    }
   ],
   "source": [
    "X_rfm =  MinMaxScaler(feature_range=(0,1),copy=True).fit_transform(df_rfm[df_rfm.columns])"
   ]
  },
  {
   "cell_type": "code",
   "execution_count": 71,
   "metadata": {},
   "outputs": [
    {
     "data": {
      "image/png": "[encoded data removed]",
      "text/plain": [
       "<Figure size 500x500 with 1 Axes>"
      ]
     },
     "metadata": {},
     "output_type": "display_data"
    }
   ],
   "source": [
    "wcss = []\n",
    "for i in range(1,7):\n",
    "    km=KMeans(n_clusters=i,init='k-means++', max_iter=100)\n",
    "    km.fit(X_rfm)\n",
    "    wcss.append(km.inertia_)\n",
    "plt.plot(range(1,7),wcss)\n",
    "plt.title('Finding number of K using elbow methods')\n",
    "plt.xlabel('Number of clusters')\n",
    "plt.ylabel('wcss')\n",
    "plt.show()"
   ]
  },
  {
   "cell_type": "code",
   "execution_count": 149,
   "metadata": {},
   "outputs": [
    {
     "data": {
      "text/plain": [
       "Text(0.5,1,'Clustering with K = 3 on RFM features')"
      ]
     },
     "execution_count": 149,
     "metadata": {},
     "output_type": "execute_result"
    },
    {
     "data": {
      "image/png": "[encoded data removed]",
      "text/plain": [
       "<Figure size 500x500 with 1 Axes>"
      ]
     },
     "metadata": {},
     "output_type": "display_data"
    }
   ],
   "source": [
    "km3=KMeans(n_clusters=3,init='k-means++', max_iter=100)\n",
    "y_means_3 = km3.fit_predict(X_rfm)\n",
    "plt.scatter(X_rfm[y_means_3==0,0],X_rfm[y_means_3==0,1],s=50, c='red',label='Customer_segment1')\n",
    "plt.scatter(X_rfm[y_means_3==1,0],X_rfm[y_means_3==1,1],s=50, c='green',label='Customer_segment2')\n",
    "plt.scatter(X_rfm[y_means_3==2,0],X_rfm[y_means_3==2,1],s=50, c='blue',label='Customer_segment3')\n",
    "plt.scatter(km3.cluster_centers_[:,0], km3.cluster_centers_[:,1],s=200,marker='v', c='yellow', alpha=0.7, label='Centroids')\n",
    "plt.title('Clustering with K = 3 on RFM features')"
   ]
  },
  {
   "cell_type": "code",
   "execution_count": 198,
   "metadata": {},
   "outputs": [
    {
     "data": {
      "text/plain": [
       "Text(0.5,1,'Clustering with K = 4 on RFM features')"
      ]
     },
     "execution_count": 198,
     "metadata": {},
     "output_type": "execute_result"
    },
    {
     "data": {
      "image/png": "[encoded data removed]",
      "text/plain": [
       "<Figure size 500x500 with 1 Axes>"
      ]
     },
     "metadata": {},
     "output_type": "display_data"
    }
   ],
   "source": [
    "km4=KMeans(n_clusters=4,init='k-means++', max_iter=100)\n",
    "y_means_4 = km4.fit_predict(X_rfm)\n",
    "plt.scatter(X_rfm[y_means_4==0,0],X_rfm[y_means_4==0,1],s=50, c='red',label='Customer_segment1')\n",
    "plt.scatter(X_rfm[y_means_4==1,0],X_rfm[y_means_4==1,1],s=50, c='green',label='Customer_segment2')\n",
    "plt.scatter(X_rfm[y_means_4==2,0],X_rfm[y_means_4==2,1],s=50, c='blue',label='Customer_segment3')\n",
    "plt.scatter(X_rfm[y_means_4==3,0],X_rfm[y_means_4==3,1],s=50, c='black',label='Customer_segment4')\n",
    "plt.scatter(km4.cluster_centers_[:,0], km4.cluster_centers_[:,1],s=200,marker='v', c='yellow', alpha=0.7, label='Centroids')\n",
    "plt.title('Clustering with K = 4 on RFM features')"
   ]
  },
  {
   "cell_type": "code",
   "execution_count": 107,
   "metadata": {},
   "outputs": [],
   "source": [
    "\n",
    "df_output['kmeans_3'] = y_means_3\n",
    "df_output['kmeans_4'] = y_means_4"
   ]
  },
  {
   "cell_type": "code",
   "execution_count": 88,
   "metadata": {},
   "outputs": [
    {
     "data": {
      "text/html": [
       "<div>\n",
       "<style scoped>\n",
       "    .dataframe tbody tr th:only-of-type {\n",
       "        vertical-align: middle;\n",
       "    }\n",
       "\n",
       "    .dataframe tbody tr th {\n",
       "        vertical-align: top;\n",
       "    }\n",
       "\n",
       "    .dataframe thead th {\n",
       "        text-align: right;\n",
       "    }\n",
       "</style>\n",
       "<table border=\"1\" class=\"dataframe\">\n",
       "  <thead>\n",
       "    <tr style=\"text-align: right;\">\n",
       "      <th></th>\n",
       "      <th>Recency</th>\n",
       "      <th>Frequency</th>\n",
       "      <th>Monetary</th>\n",
       "      <th>kmeans_3</th>\n",
       "      <th>kmeans_4</th>\n",
       "    </tr>\n",
       "    <tr>\n",
       "      <th>INSURED_ID</th>\n",
       "      <th></th>\n",
       "      <th></th>\n",
       "      <th></th>\n",
       "      <th></th>\n",
       "      <th></th>\n",
       "    </tr>\n",
       "  </thead>\n",
       "  <tbody>\n",
       "    <tr>\n",
       "      <th>PART_ID_10</th>\n",
       "      <td>3044</td>\n",
       "      <td>1</td>\n",
       "      <td>25785.12</td>\n",
       "      <td>0</td>\n",
       "      <td>2</td>\n",
       "    </tr>\n",
       "    <tr>\n",
       "      <th>PART_ID_10000</th>\n",
       "      <td>1629</td>\n",
       "      <td>1</td>\n",
       "      <td>100000.00</td>\n",
       "      <td>0</td>\n",
       "      <td>2</td>\n",
       "    </tr>\n",
       "    <tr>\n",
       "      <th>PART_ID_10001</th>\n",
       "      <td>1651</td>\n",
       "      <td>1</td>\n",
       "      <td>1000000.00</td>\n",
       "      <td>0</td>\n",
       "      <td>2</td>\n",
       "    </tr>\n",
       "    <tr>\n",
       "      <th>PART_ID_10002</th>\n",
       "      <td>1298</td>\n",
       "      <td>2</td>\n",
       "      <td>63183.28</td>\n",
       "      <td>0</td>\n",
       "      <td>0</td>\n",
       "    </tr>\n",
       "    <tr>\n",
       "      <th>PART_ID_10003</th>\n",
       "      <td>1201</td>\n",
       "      <td>3</td>\n",
       "      <td>66267.04</td>\n",
       "      <td>2</td>\n",
       "      <td>0</td>\n",
       "    </tr>\n",
       "  </tbody>\n",
       "</table>\n",
       "</div>"
      ],
      "text/plain": [
       "               Recency  Frequency    Monetary  kmeans_3  kmeans_4\n",
       "INSURED_ID                                                       \n",
       "PART_ID_10        3044          1    25785.12         0         2\n",
       "PART_ID_10000     1629          1   100000.00         0         2\n",
       "PART_ID_10001     1651          1  1000000.00         0         2\n",
       "PART_ID_10002     1298          2    63183.28         0         0\n",
       "PART_ID_10003     1201          3    66267.04         2         0"
      ]
     },
     "execution_count": 88,
     "metadata": {},
     "output_type": "execute_result"
    }
   ],
   "source": [
    "df_output.head()"
   ]
  },
  {
   "cell_type": "code",
   "execution_count": 95,
   "metadata": {},
   "outputs": [
    {
     "name": "stdout",
     "output_type": "stream",
     "text": [
      "===================================\n",
      "Differentiating between clusters in method: kmeans_3\n",
      "Group 0 Mean recency of group is 2047.3160372530958\n",
      "Mean frecency of group is 1.249718554907379\n",
      "Mean monetary of group is 360457.5193071339\n",
      "\n",
      "Group 2 Mean recency of group is 2401.5511152416357\n",
      "Mean frecency of group is 3.6319702602230484\n",
      "Mean monetary of group is 148157.61887081803\n",
      "\n",
      "Group 1 Mean recency of group is 737170.0\n",
      "Mean frecency of group is 1.854219948849105\n",
      "Mean monetary of group is 291272.0064961637\n",
      "\n",
      "\n",
      "===================================\n",
      "Differentiating between clusters in method: kmeans_4\n",
      "Group 2 Mean recency of group is 1978.4450961669622\n",
      "Mean frecency of group is 1.0\n",
      "Mean monetary of group is 407900.90528168046\n",
      "\n",
      "Group 0 Mean recency of group is 2263.1422958181306\n",
      "Mean frecency of group is 2.315183833847881\n",
      "Mean monetary of group is 196810.13940499572\n",
      "\n",
      "Group 3 Mean recency of group is 2531.4927113702624\n",
      "Mean frecency of group is 4.321671525753159\n",
      "Mean monetary of group is 145101.60703595728\n",
      "\n",
      "Group 1 Mean recency of group is 737170.0\n",
      "Mean frecency of group is 1.854219948849105\n",
      "Mean monetary of group is 291272.0064961637\n",
      "\n",
      "\n"
     ]
    }
   ],
   "source": [
    "for i in ['kmeans_3','kmeans_4']:\n",
    "    print('===================================')\n",
    "    print('Differentiating between clusters in method: ' + i )\n",
    "    for j in df_output[i].unique():\n",
    "        df_tmp = df_output[df_output[i]==j]\n",
    "        print('Group '+ str(j) + ' Mean recency of group is ' + str(df_tmp['Recency'].mean())\n",
    "              + '\\nMean frecency of group is ' + str(df_tmp['Frequency'].mean())\n",
    "              + '\\nMean monetary of group is ' + str(df_tmp['Monetary'].mean()))\n",
    "        print()\n",
    "    print()"
   ]
  },
  {
   "cell_type": "code",
   "execution_count": 104,
   "metadata": {},
   "outputs": [
    {
     "name": "stdout",
     "output_type": "stream",
     "text": [
      "For n_clusters =3  The average silhouette_score is : 0.7642060931237917\n"
     ]
    }
   ],
   "source": [
    "silhouette_avg = silhouette_score(X_rfm, y_means_3)\n",
    "print(\"For n_clusters =3 \",\"The average silhouette_score is :\", silhouette_avg)"
   ]
  },
  {
   "cell_type": "code",
   "execution_count": 100,
   "metadata": {},
   "outputs": [
    {
     "name": "stdout",
     "output_type": "stream",
     "text": [
      "For n_clusters =4  The average silhouette_score is : 0.8002334522961642\n"
     ]
    }
   ],
   "source": [
    "silhouette_avg = silhouette_score(X_rfm, y_means_4)\n",
    "print(\"For n_clusters =4 \",\"The average silhouette_score is :\", silhouette_avg)"
   ]
  },
  {
   "cell_type": "code",
   "execution_count": 109,
   "metadata": {},
   "outputs": [],
   "source": [
    "db3 = DBSCAN(eps=3, min_samples=5)\n",
    "y_db_3 = db3.fit_predict(X)"
   ]
  },
  {
   "cell_type": "code",
   "execution_count": 114,
   "metadata": {},
   "outputs": [
    {
     "data": {
      "text/plain": [
       "{0}"
      ]
     },
     "execution_count": 114,
     "metadata": {},
     "output_type": "execute_result"
    }
   ],
   "source": [
    "set(y_db_3)"
   ]
  },
  {
   "cell_type": "code",
   "execution_count": 121,
   "metadata": {},
   "outputs": [],
   "source": [
    "db3 = DBSCAN(eps=0.5, min_samples=2)\n",
    "y_db_3 = db3.fit_predict(X_rfm)"
   ]
  },
  {
   "cell_type": "code",
   "execution_count": 122,
   "metadata": {},
   "outputs": [
    {
     "data": {
      "text/plain": [
       "{-1, 0, 1}"
      ]
     },
     "execution_count": 122,
     "metadata": {},
     "output_type": "execute_result"
    }
   ],
   "source": [
    "set(y_db_3)"
   ]
  },
  {
   "cell_type": "code",
   "execution_count": 162,
   "metadata": {},
   "outputs": [
    {
     "data": {
      "text/plain": [
       "array([    0,     1,     2, ..., 12311, 12312, 12313], dtype=int64)"
      ]
     },
     "execution_count": 162,
     "metadata": {},
     "output_type": "execute_result"
    }
   ],
   "source": [
    "db3.core_sample_indices_"
   ]
  },
  {
   "cell_type": "code",
   "execution_count": 172,
   "metadata": {
    "scrolled": false
   },
   "outputs": [
    {
     "data": {
      "image/png": "[encoded data removed]",
      "text/plain": [
       "<Figure size 500x500 with 1 Axes>"
      ]
     },
     "metadata": {},
     "output_type": "display_data"
    }
   ],
   "source": [
    "plt.scatter(X_rfm[y_db_3==-1,0],X_rfm[y_db_3==-1,2],s=50, c='red',label='Customer_segment1')\n",
    "plt.scatter(X_rfm[y_db_3==0,0],X_rfm[y_db_3==0,2],s=50, c='blue',label='Customer_segment1')\n",
    "plt.scatter(X_rfm[y_db_3==1,0],X_rfm[y_db_3==1,2],s=50, c='green',label='Customer_segment1')\n",
    "plt.title('Clustering with DB SCAN ON RFM features')\n",
    "plt.show()"
   ]
  },
  {
   "cell_type": "code",
   "execution_count": 200,
   "metadata": {},
   "outputs": [
    {
     "name": "stdout",
     "output_type": "stream",
     "text": [
      "For DBSCAN n_clusters =3  The average silhouette_score is : 0.8964222078602517\n"
     ]
    }
   ],
   "source": [
    "silhouette_avg = silhouette_score(X_rfm, y_db_3)\n",
    "print(\"For DBSCAN n_clusters =3 \",\"The average silhouette_score is :\", silhouette_avg)"
   ]
  },
  {
   "cell_type": "code",
   "execution_count": 165,
   "metadata": {},
   "outputs": [],
   "source": [
    "df_output['DBSCAN'] = y_db_3"
   ]
  },
  {
   "cell_type": "code",
   "execution_count": 166,
   "metadata": {},
   "outputs": [
    {
     "name": "stdout",
     "output_type": "stream",
     "text": [
      "===================================\n",
      "Differentiating between clusters in method: DBSCAN\n",
      "Group 0 Mean recency of group is 2111.2541519879214\n",
      "Mean frecency of group is 1.67916456970307\n",
      "Mean monetary of group is 318782.02373427356\n",
      "\n",
      "Group 1 Mean recency of group is 737170.0\n",
      "Mean frecency of group is 1.854219948849105\n",
      "Mean monetary of group is 291272.0064961637\n",
      "\n",
      "Group -1 Mean recency of group is 2091.0\n",
      "Mean frecency of group is 8.0\n",
      "Mean monetary of group is 40346330.0\n",
      "\n",
      "\n"
     ]
    }
   ],
   "source": [
    "for i in ['DBSCAN']:\n",
    "    print('===================================')\n",
    "    print('Differentiating between clusters in method: ' + i )\n",
    "    for j in df_output[i].unique():\n",
    "        df_tmp = df_output[df_output[i]==j]\n",
    "        print('Group '+ str(j) + ' Mean recency of group is ' + str(df_tmp['Recency'].mean())\n",
    "              + '\\nMean frecency of group is ' + str(df_tmp['Frequency'].mean())\n",
    "              + '\\nMean monetary of group is ' + str(df_tmp['Monetary'].mean()))\n",
    "        print()\n",
    "    print()"
   ]
  },
  {
   "cell_type": "code",
   "execution_count": 170,
   "metadata": {},
   "outputs": [],
   "source": [
    "SpC_3= SpectralClustering(n_clusters=3)\n",
    "y_spc_3 = SpC_3.fit_predict(X_rfm)"
   ]
  },
  {
   "cell_type": "code",
   "execution_count": 199,
   "metadata": {},
   "outputs": [
    {
     "data": {
      "image/png": "[encoded data removed]",
      "text/plain": [
       "<Figure size 500x500 with 1 Axes>"
      ]
     },
     "metadata": {},
     "output_type": "display_data"
    }
   ],
   "source": [
    "plt.scatter(X_rfm[y_spc_3==0,0],X_rfm[y_spc_3==0,2],s=50, c='red',label='Customer_segment1')\n",
    "plt.scatter(X_rfm[y_spc_3==1,0],X_rfm[y_spc_3==1,2],s=50, c='blue',label='Customer_segment1')\n",
    "plt.scatter(X_rfm[y_spc_3==2,0],X_rfm[y_spc_3==2,2],s=50, c='green',label='Customer_segment1')\n",
    "plt.title('Clustering with Spectral Clustering ON RFM features')\n",
    "plt.show()"
   ]
  },
  {
   "cell_type": "code",
   "execution_count": 181,
   "metadata": {},
   "outputs": [],
   "source": [
    "df_output['Spectral_Clustering'] = y_spc_3"
   ]
  },
  {
   "cell_type": "code",
   "execution_count": 183,
   "metadata": {},
   "outputs": [
    {
     "name": "stdout",
     "output_type": "stream",
     "text": [
      "===================================\n",
      "Differentiating between clusters in method: Spectral_Clustering\n",
      "Group 0 Mean recency of group is 2047.3160372530958\n",
      "Mean frequency of group is 1.249718554907379\n",
      "Mean monetary of group is 360457.5193071339\n",
      "\n",
      "Group 2 Mean recency of group is 2401.5511152416357\n",
      "Mean frequency of group is 3.6319702602230484\n",
      "Mean monetary of group is 148157.61887081803\n",
      "\n",
      "Group 1 Mean recency of group is 737170.0\n",
      "Mean frequency of group is 1.854219948849105\n",
      "Mean monetary of group is 291272.0064961637\n",
      "\n",
      "\n"
     ]
    }
   ],
   "source": [
    "for i in ['Spectral_Clustering']:\n",
    "    print('===================================')\n",
    "    print('Differentiating between clusters in method: ' + i )\n",
    "    for j in df_output[i].unique():\n",
    "        df_tmp = df_output[df_output[i]==j]\n",
    "        print('Group '+ str(j) + ' Mean recency of group is ' + str(df_tmp['Recency'].mean())\n",
    "              + '\\nMean frequency of group is ' + str(df_tmp['Frequency'].mean())\n",
    "              + '\\nMean monetary of group is ' + str(df_tmp['Monetary'].mean()))\n",
    "        print()\n",
    "    print()"
   ]
  },
  {
   "cell_type": "code",
   "execution_count": 202,
   "metadata": {},
   "outputs": [
    {
     "name": "stdout",
     "output_type": "stream",
     "text": [
      "For Spectral Clustering n_clusters =3  The average silhouette_score is : 0.7642060931237917\n"
     ]
    }
   ],
   "source": [
    "silhouette_avg = silhouette_score(X_rfm, y_spc_3)\n",
    "print(\"For Spectral Clustering n_clusters =3 \",\"The average silhouette_score is :\", silhouette_avg)"
   ]
  },
  {
   "cell_type": "code",
   "execution_count": 190,
   "metadata": {},
   "outputs": [],
   "source": [
    "df_output.to_excel('../data/processed/output/customer_segmentation.xlsx')"
   ]
  },
  {
   "cell_type": "markdown",
   "metadata": {},
   "source": [
    "# EXPERIMENT WITH WHOLE DATASET"
   ]
  },
  {
   "cell_type": "code",
   "execution_count": 17,
   "metadata": {},
   "outputs": [
    {
     "data": {
      "image/png": "[encoded data removed]",
      "text/plain": [
       "<Figure size 500x500 with 1 Axes>"
      ]
     },
     "metadata": {},
     "output_type": "display_data"
    }
   ],
   "source": [
    "wcss = []\n",
    "for i in range(1,11):\n",
    "    km=KMeans(n_clusters=i,init='k-means++', max_iter=100)\n",
    "    km.fit(X)\n",
    "    wcss.append(km.inertia_)\n",
    "plt.plot(range(1,11),wcss)\n",
    "plt.title('Finding number of K using elbow methods')\n",
    "plt.xlabel('Number of clusters')\n",
    "plt.ylabel('wcss')\n",
    "plt.show()"
   ]
  },
  {
   "cell_type": "code",
   "execution_count": 141,
   "metadata": {},
   "outputs": [],
   "source": [
    "km3=KMeans(n_clusters=3,init='k-means++', max_iter=100)\n",
    "y_means_3 = km3.fit_predict(X)"
   ]
  },
  {
   "cell_type": "code",
   "execution_count": 146,
   "metadata": {},
   "outputs": [
    {
     "data": {
      "text/plain": [
       "Text(0.5,1,'Clustering with K = 3 on all features')"
      ]
     },
     "execution_count": 146,
     "metadata": {},
     "output_type": "execute_result"
    },
    {
     "data": {
      "image/png": "[encoded data removed]",
      "text/plain": [
       "<Figure size 500x500 with 1 Axes>"
      ]
     },
     "metadata": {},
     "output_type": "display_data"
    }
   ],
   "source": [
    "plt.scatter(X[y_means_3==0,0],X[y_means_3==0,1],s=50, c='red',label='Customer_segment1')\n",
    "plt.scatter(X[y_means_3==1,0],X[y_means_3==1,1],s=50, c='green',label='Customer_segment2')\n",
    "plt.scatter(X[y_means_3==2,0],X[y_means_3==2,1],s=50, c='blue',label='Customer_segment3')\n",
    "plt.scatter(km3.cluster_centers_[:,0], km3.cluster_centers_[:,1],s=200,marker='v', c='yellow', alpha=0.7, label='Centroids')\n",
    "plt.title('Clustering with K = 3 on all features')"
   ]
  },
  {
   "cell_type": "code",
   "execution_count": 27,
   "metadata": {},
   "outputs": [],
   "source": [
    "km4=KMeans(n_clusters=4,init='k-means++', max_iter=100)\n",
    "y_means4 = km4.fit_predict(X)"
   ]
  },
  {
   "cell_type": "code",
   "execution_count": 73,
   "metadata": {},
   "outputs": [
    {
     "data": {
      "text/plain": [
       "Text(0.5,1,'Clustering with K = 4 on all features')"
      ]
     },
     "execution_count": 73,
     "metadata": {},
     "output_type": "execute_result"
    },
    {
     "data": {
      "image/png": "[encoded data removed]",
      "text/plain": [
       "<Figure size 500x500 with 1 Axes>"
      ]
     },
     "metadata": {},
     "output_type": "display_data"
    }
   ],
   "source": [
    "plt.scatter(X[y_means4==0,0],X[y_means4==0,1],s=50, c='red',label='Customer_segment1')\n",
    "plt.scatter(X[y_means4==1,0],X[y_means4==1,1],s=50, c='green',label='Customer_segment2')\n",
    "plt.scatter(X[y_means4==2,0],X[y_means4==2,1],s=50, c='blue',label='Customer_segment3')\n",
    "plt.scatter(X[y_means4==3,0],X[y_means4==3,1],s=50, c='black',label='Customer_segment4')\n",
    "plt.scatter(km4.cluster_centers_[:,0], km4.cluster_centers_[:,1],s=200,marker='v', c='yellow', alpha=0.7, label='Centroids')\n",
    "plt.title('Clustering with K = 4 on all features')"
   ]
  }
 ],
 "metadata": {
  "kernelspec": {
   "display_name": "Python 3",
   "language": "python",
   "name": "python3"
  },
  "language_info": {
   "codemirror_mode": {
    "name": "ipython",
    "version": 3
   },
   "file_extension": ".py",
   "mimetype": "text/x-python",
   "name": "python",
   "nbconvert_exporter": "python",
   "pygments_lexer": "ipython3",
   "version": "3.6.5"
  }
 },
 "nbformat": 4,
 "nbformat_minor": 2
}
